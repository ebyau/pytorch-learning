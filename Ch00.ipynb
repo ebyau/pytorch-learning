{
 "cells": [
  {
   "cell_type": "code",
   "execution_count": 4,
   "metadata": {},
   "outputs": [],
   "source": [
    "import numpy as np\n",
    "from sklearn.linear_model import LinearRegression\n",
    "from sklearn.preprocessing import StandardScaler\n"
   ]
  },
  {
   "cell_type": "markdown",
   "metadata": {},
   "source": [
    "### Synthetic Data Generation\n",
    "Generate 100 data points when 0 and 1. Add gaussian noise to the data generated to micmick real-world scenarios. "
   ]
  },
  {
   "cell_type": "code",
   "execution_count": 5,
   "metadata": {},
   "outputs": [],
   "source": [
    "true_b = 1\n",
    "true_w = 2\n",
    "N = 100\n",
    "\n",
    "# data generation\n",
    "np.random.seed(0)\n",
    "x = np.random.rand(N,1)\n",
    "epsilon = (0.1 * np.random.randn(N,1))\n",
    "y = true_b + true_w * x + epsilon\n"
   ]
  },
  {
   "cell_type": "markdown",
   "metadata": {},
   "source": [
    "### Train-Validation-Test Split\n",
    "Spliting is always done before any preprocessing tasks to avaoid data leakage"
   ]
  },
  {
   "cell_type": "code",
   "execution_count": 6,
   "metadata": {},
   "outputs": [],
   "source": [
    "# Shuffle the indices\n",
    "idx = np.arange(N)\n",
    "np.random.shuffle(idx)\n",
    "\n",
    "# First 80 indices for train data\n",
    "train_idx = idx[:80]\n",
    "# Last 20 indices for validation data\n",
    "val_idx = idx[80:]\n",
    "\n",
    "# generate test and train data\n",
    "x_train, y_train = x[train_idx], y[train_idx]\n",
    "x_val, y_val = x[val_idx], y[val_idx]\n",
    "\n"
   ]
  },
  {
   "cell_type": "markdown",
   "metadata": {},
   "source": [
    "### Initialization W, b"
   ]
  },
  {
   "cell_type": "code",
   "execution_count": 8,
   "metadata": {},
   "outputs": [
    {
     "name": "stdout",
     "output_type": "stream",
     "text": [
      "Initial b:  [0.49671415]\n",
      "Initial w:  [-0.1382643]\n"
     ]
    }
   ],
   "source": [
    "# initialize parameter w and b\n",
    "np.random.seed(42)\n",
    "b = np.random.randn(1)\n",
    "w = np.random.randn(1)\n",
    "\n",
    "print(\"Initial b: \", b)\n",
    "print(\"Initial w: \", w)"
   ]
  },
  {
   "cell_type": "markdown",
   "metadata": {},
   "source": [
    "### Compute Model's Predictions"
   ]
  },
  {
   "cell_type": "code",
   "execution_count": 9,
   "metadata": {},
   "outputs": [
    {
     "name": "stdout",
     "output_type": "stream",
     "text": [
      "Initial loss:  2.5521473884714103\n"
     ]
    }
   ],
   "source": [
    "# model prediction\n",
    "def predict(x, w, b):\n",
    "    y_hat = b + w * x\n",
    "    return y_hat\n",
    "\n",
    "y_hat = predict(x_train, w, b)\n",
    "\n",
    "# loss function\n",
    "error = y_hat - y_train\n",
    "\n",
    "# mean squared error\n",
    "loss = (error ** 2).mean()\n",
    "print(\"Initial loss: \", loss)"
   ]
  },
  {
   "cell_type": "markdown",
   "metadata": {},
   "source": [
    "### Loss surface"
   ]
  },
  {
   "cell_type": "code",
   "execution_count": 12,
   "metadata": {},
   "outputs": [
    {
     "data": {
      "text/plain": [
       "((101, 101), (101, 101))"
      ]
     },
     "execution_count": 12,
     "metadata": {},
     "output_type": "execute_result"
    }
   ],
   "source": [
    "b_range = np.linspace(true_b - 3, true_b + 3, 101)\n",
    "w_range = np.linspace(true_w - 3, true_w + 3, 101)\n",
    "\n",
    "# generate various combinations of w and b\n",
    "bs, ws = np.meshgrid(b_range, w_range)\n",
    "bs.shape, ws.shape"
   ]
  },
  {
   "cell_type": "code",
   "execution_count": 14,
   "metadata": {},
   "outputs": [
    {
     "data": {
      "text/plain": [
       "(80, 101, 101)"
      ]
     },
     "execution_count": 14,
     "metadata": {},
     "output_type": "execute_result"
    }
   ],
   "source": [
    "all_predictions = np.apply_along_axis(\n",
    "    func1d=lambda x: bs + ws * x,\n",
    "    axis=1,\n",
    "    arr=x_train\n",
    ")\n",
    "all_predictions.shape"
   ]
  },
  {
   "cell_type": "code",
   "execution_count": 16,
   "metadata": {},
   "outputs": [
    {
     "data": {
      "text/plain": [
       "(80, 1, 1)"
      ]
     },
     "execution_count": 16,
     "metadata": {},
     "output_type": "execute_result"
    }
   ],
   "source": [
    "all_labels = y_train.reshape(-1,1,1)\n",
    "all_labels.shape"
   ]
  },
  {
   "cell_type": "code",
   "execution_count": null,
   "metadata": {},
   "outputs": [],
   "source": [
    "all_errors = all_predictions - all_labels\n",
    "all_errors.shape\n",
    "all_losses = (all_errors ** 2).mean(axis=0)"
   ]
  },
  {
   "cell_type": "markdown",
   "metadata": {},
   "source": [
    "### Compute Gradient Descent\n",
    "Gradient Descent algorithm is used to update the values of w and b until we reach an optimal solution. we do this by taking partial derivatives of the loss function with respect to w and b.\n",
    "$$MSE\\ is \\ given \\ by ==> \\frac{1}{n}\\sum_{i=1}^{n}(\\hat{y}_{i} - y_i)^2$$\n",
    "$$ where\\ \\hat{y}_{i} = wx_{i} + b $$\n",
    "$$\\frac{\\partial{MSE}}{\\partial{b}} =  \\frac{2}{n}\\sum_{i=1}^{n}(\\hat{y}_{i} - y_i)$$\n",
    "\n",
    "$$\\frac{\\partial{MSE}}{\\partial{w}} = \\frac{2}{n}\\sum_{i=1}^{n} x_{i}  (\\hat{y}_{i} - y_i)$$"
   ]
  },
  {
   "cell_type": "code",
   "execution_count": 18,
   "metadata": {},
   "outputs": [
    {
     "name": "stdout",
     "output_type": "stream",
     "text": [
      "b_grad:  -2.952298488769403\n",
      "w_grad:  -1.6541516719074536\n"
     ]
    }
   ],
   "source": [
    "# compute gradients for w and b\n",
    "b_grad = 2 * error.mean()\n",
    "w_grad = 2 * (error * x_train).mean()\n",
    "print(\"b_grad: \", b_grad)\n",
    "print(\"w_grad: \", w_grad)"
   ]
  },
  {
   "cell_type": "markdown",
   "metadata": {},
   "source": [
    "### Update Parameters w and b\n",
    "$$ b = b - \\eta \\frac{\\partial{MSE}}{\\partial{b}}$$\n",
    "$$ w = w - \\eta \\frac{\\partial{MSE}}{\\partial{w}}$$\n",
    "$$where \\ \\eta \\ is \\ the \\ learning \\ rate.$$"
   ]
  },
  {
   "cell_type": "code",
   "execution_count": 20,
   "metadata": {},
   "outputs": [
    {
     "name": "stdout",
     "output_type": "stream",
     "text": [
      "orginal b:  [0.791944]\n",
      "orginal w:  [0.02715087]\n",
      "Updated b:  [1.08717385]\n",
      "Updated w:  [0.19256603]\n"
     ]
    }
   ],
   "source": [
    "lr = 0.1\n",
    "print('orginal b: ', b)\n",
    "print('orginal w: ', w)\n",
    "\n",
    "# update w and b using gradients and learning rate\n",
    "b = b - lr * b_grad\n",
    "w = w - lr * w_grad\n",
    "\n",
    "print('Updated b: ', b)\n",
    "print('Updated w: ', w)"
   ]
  },
  {
   "cell_type": "markdown",
   "metadata": {},
   "source": [
    "### Normalize Data\n",
    "\n",
    "Use the mean and standard deviation to scale validation data. \n",
    "Data Normalization is done after splitting the data to avoid data leakage. "
   ]
  },
  {
   "cell_type": "code",
   "execution_count": null,
   "metadata": {},
   "outputs": [],
   "source": [
    "scaler = StandardScaler(with_mean=True, with_std=True)\n",
    "# fit on the training data\n",
    "scaler.fit(x_train)\n",
    "\n",
    "# use the already fit scaler to transform training and validation data\n",
    "scaled_x_train = scaler.transform(x_train)\n",
    "scaled_x_val = scaler.transform(x_val)"
   ]
  }
 ],
 "metadata": {
  "kernelspec": {
   "display_name": "kigali",
   "language": "python",
   "name": "python3"
  },
  "language_info": {
   "codemirror_mode": {
    "name": "ipython",
    "version": 3
   },
   "file_extension": ".py",
   "mimetype": "text/x-python",
   "name": "python",
   "nbconvert_exporter": "python",
   "pygments_lexer": "ipython3",
   "version": "3.11.5"
  }
 },
 "nbformat": 4,
 "nbformat_minor": 2
}
